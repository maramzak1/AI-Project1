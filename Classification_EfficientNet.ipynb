{
  "cells": [
    {
      "cell_type": "code",
      "source": [
        "import os\n",
        "import torch\n",
        "import torchvision.transforms as transforms\n",
        "from torchvision.datasets import ImageFolder\n",
        "from torch.utils.data import DataLoader, random_split\n",
        "import torch.nn as nn\n",
        "import torch.optim as optim\n",
        "from torchvision.models import efficientnet_b0\n",
        "from sklearn.metrics import classification_report\n",
        "import numpy as np\n",
        "from google.colab import drive"
      ],
      "metadata": {
        "id": "xHLX_zy7qqO2"
      },
      "execution_count": 1,
      "outputs": []
    },
    {
      "cell_type": "code",
      "source": [
        "# Config device\n",
        "device = torch.device(\"cuda\" if torch.cuda.is_available() else \"cpu\")\n",
        "print(\"Using device:\", device)"
      ],
      "metadata": {
        "colab": {
          "base_uri": "https://localhost:8080/"
        },
        "id": "vUAgyyOEqucG",
        "outputId": "d0dbecc8-f7c5-4d98-d499-8b31bb104b99"
      },
      "execution_count": 2,
      "outputs": [
        {
          "output_type": "stream",
          "name": "stdout",
          "text": [
            "Using device: cuda\n"
          ]
        }
      ]
    },
    {
      "cell_type": "code",
      "source": [
        "# Monter Google Drive\n",
        "drive.mount('/content/drive')"
      ],
      "metadata": {
        "colab": {
          "base_uri": "https://localhost:8080/"
        },
        "id": "c47DYIWeqwZP",
        "outputId": "c1f34723-fcda-400a-d0cb-efcc70f8ce2b"
      },
      "execution_count": 3,
      "outputs": [
        {
          "output_type": "stream",
          "name": "stdout",
          "text": [
            "Mounted at /content/drive\n"
          ]
        }
      ]
    },
    {
      "cell_type": "code",
      "source": [
        "# Vérifier le contenu du dossier\n",
        "data_path = \"/content/drive/MyDrive/image/image\"\n",
        "print(\"Dossiers/classes dans data_path :\", os.listdir(data_path))"
      ],
      "metadata": {
        "colab": {
          "base_uri": "https://localhost:8080/"
        },
        "id": "d4yQ7fumqx8-",
        "outputId": "ba62704b-8655-480a-d169-7314ac506615"
      },
      "execution_count": 4,
      "outputs": [
        {
          "output_type": "stream",
          "name": "stdout",
          "text": [
            "Dossiers/classes dans data_path : ['yorkshire_terrier', 'Siamese', 'samoyed', 'scottish_terrier', 'Russian_Blue', 'shiba_inu', 'staffordshire_bull_terrier', 'wheaten_terrier', 'Sphynx', 'saint_bernard', 'pug', 'Maine_Coon', 'Persian', 'pomeranian', 'japanese_chin', 'miniature_pinscher', 'newfoundland', 'keeshond', 'Ragdoll', 'leonberger', 'great_pyrenees', 'Bombay', 'german_shorthaired', 'havanese', 'chihuahua', 'boxer', 'British_Shorthair', 'english_setter', 'english_cocker_spaniel', 'Egyptian_Mau', 'american_bulldog', 'beagle', 'Bengal', 'basset_hound', 'Birman', 'Abyssinian', 'american_pit_bull_terrier']\n"
          ]
        }
      ]
    },
    {
      "cell_type": "code",
      "source": [
        "# Transformation des images\n",
        "transform = transforms.Compose([\n",
        "    transforms.Resize((224, 224)),\n",
        "    transforms.ToTensor(),\n",
        "    transforms.Normalize([0.485, 0.456, 0.406],\n",
        "                         [0.229, 0.224, 0.225])\n",
        "])"
      ],
      "metadata": {
        "id": "WN5Utb0ZqzrW"
      },
      "execution_count": 5,
      "outputs": []
    },
    {
      "cell_type": "code",
      "source": [
        "# Chargement du dataset\n",
        "dataset = ImageFolder(data_path, transform=transform)\n",
        "print(\"Classes détectées :\", dataset.class_to_idx)\n",
        "print(\"Nombre total d'images :\", len(dataset))"
      ],
      "metadata": {
        "colab": {
          "base_uri": "https://localhost:8080/"
        },
        "id": "HV-dn2dWq1WA",
        "outputId": "988d12f8-132b-4f1a-c3ff-1b3ce1d3d372"
      },
      "execution_count": 6,
      "outputs": [
        {
          "output_type": "stream",
          "name": "stdout",
          "text": [
            "Classes détectées : {'Abyssinian': 0, 'Bengal': 1, 'Birman': 2, 'Bombay': 3, 'British_Shorthair': 4, 'Egyptian_Mau': 5, 'Maine_Coon': 6, 'Persian': 7, 'Ragdoll': 8, 'Russian_Blue': 9, 'Siamese': 10, 'Sphynx': 11, 'american_bulldog': 12, 'american_pit_bull_terrier': 13, 'basset_hound': 14, 'beagle': 15, 'boxer': 16, 'chihuahua': 17, 'english_cocker_spaniel': 18, 'english_setter': 19, 'german_shorthaired': 20, 'great_pyrenees': 21, 'havanese': 22, 'japanese_chin': 23, 'keeshond': 24, 'leonberger': 25, 'miniature_pinscher': 26, 'newfoundland': 27, 'pomeranian': 28, 'pug': 29, 'saint_bernard': 30, 'samoyed': 31, 'scottish_terrier': 32, 'shiba_inu': 33, 'staffordshire_bull_terrier': 34, 'wheaten_terrier': 35, 'yorkshire_terrier': 36}\n",
            "Nombre total d'images : 10573\n"
          ]
        }
      ]
    },
    {
      "cell_type": "code",
      "source": [
        "# Split train / validation\n",
        "train_size = int(0.8 * len(dataset))\n",
        "val_size = len(dataset) - train_size\n",
        "train_dataset, val_dataset = random_split(dataset, [train_size, val_size])"
      ],
      "metadata": {
        "id": "KdTgaFy7q_Wl"
      },
      "execution_count": 7,
      "outputs": []
    },
    {
      "cell_type": "code",
      "source": [
        "# Dataloaders\n",
        "train_loader = DataLoader(train_dataset, batch_size=32, shuffle=True, num_workers=0)\n",
        "val_loader = DataLoader(val_dataset, batch_size=32, shuffle=False, num_workers=0)"
      ],
      "metadata": {
        "id": "g9YWxR3JrBcq"
      },
      "execution_count": 8,
      "outputs": []
    },
    {
      "cell_type": "code",
      "source": [
        "\n",
        "# Charger EfficientNet pré-entraîné\n",
        "model = efficientnet_b0(pretrained=True)"
      ],
      "metadata": {
        "colab": {
          "base_uri": "https://localhost:8080/"
        },
        "id": "wo3UMZORrDic",
        "outputId": "f9d6a361-b759-40e9-fdf1-d8931d2c3932"
      },
      "execution_count": 9,
      "outputs": [
        {
          "output_type": "stream",
          "name": "stderr",
          "text": [
            "/usr/local/lib/python3.11/dist-packages/torchvision/models/_utils.py:208: UserWarning: The parameter 'pretrained' is deprecated since 0.13 and may be removed in the future, please use 'weights' instead.\n",
            "  warnings.warn(\n",
            "/usr/local/lib/python3.11/dist-packages/torchvision/models/_utils.py:223: UserWarning: Arguments other than a weight enum or `None` for 'weights' are deprecated since 0.13 and may be removed in the future. The current behavior is equivalent to passing `weights=EfficientNet_B0_Weights.IMAGENET1K_V1`. You can also use `weights=EfficientNet_B0_Weights.DEFAULT` to get the most up-to-date weights.\n",
            "  warnings.warn(msg)\n",
            "Downloading: \"https://download.pytorch.org/models/efficientnet_b0_rwightman-7f5810bc.pth\" to /root/.cache/torch/hub/checkpoints/efficientnet_b0_rwightman-7f5810bc.pth\n",
            "100%|██████████| 20.5M/20.5M [00:00<00:00, 179MB/s]\n"
          ]
        }
      ]
    },
    {
      "cell_type": "code",
      "source": [
        "# Adapter le classifier au nombre de classes\n",
        "nb_classes = len(dataset.classes)\n",
        "num_features = model.classifier[1].in_features\n",
        "model.classifier[1] = nn.Linear(num_features, nb_classes)\n",
        "model = model.to(device)"
      ],
      "metadata": {
        "id": "58c-3ue5rFvv"
      },
      "execution_count": 10,
      "outputs": []
    },
    {
      "cell_type": "code",
      "source": [
        "# Définir loss et optimizer\n",
        "criterion = nn.CrossEntropyLoss()\n",
        "optimizer = optim.Adam(model.parameters(), lr=0.001)"
      ],
      "metadata": {
        "id": "9rvDDXWirH08"
      },
      "execution_count": 11,
      "outputs": []
    },
    {
      "cell_type": "code",
      "source": [
        "# Scheduler pour réduire le LR quand ça stagne\n",
        "scheduler = torch.optim.lr_scheduler.ReduceLROnPlateau(optimizer, mode='min', patience=2, factor=0.5, verbose=True)\n"
      ],
      "metadata": {
        "colab": {
          "base_uri": "https://localhost:8080/"
        },
        "id": "m4FkAiizrJ-K",
        "outputId": "b90d1c06-059c-4353-adce-88f4e404572e"
      },
      "execution_count": 12,
      "outputs": [
        {
          "output_type": "stream",
          "name": "stderr",
          "text": [
            "/usr/local/lib/python3.11/dist-packages/torch/optim/lr_scheduler.py:62: UserWarning: The verbose parameter is deprecated. Please use get_last_lr() to access the learning rate.\n",
            "  warnings.warn(\n"
          ]
        }
      ]
    },
    {
      "cell_type": "code",
      "execution_count": null,
      "metadata": {
        "colab": {
          "base_uri": "https://localhost:8080/"
        },
        "id": "LOF_Lpx5DvPF",
        "outputId": "ab0f6862-d30a-404d-bccc-fec78209101a"
      },
      "outputs": [
        {
          "name": "stdout",
          "output_type": "stream",
          "text": [
            "Using device: cuda\n",
            "Mounted at /content/drive\n",
            "Dossiers/classes dans data_path : ['yorkshire_terrier', 'Siamese', 'samoyed', 'scottish_terrier', 'Russian_Blue', 'shiba_inu', 'staffordshire_bull_terrier', 'wheaten_terrier', 'Sphynx', 'saint_bernard', 'pug', 'Maine_Coon', 'Persian', 'pomeranian', 'japanese_chin', 'miniature_pinscher', 'newfoundland', 'keeshond', 'Ragdoll', 'leonberger', 'great_pyrenees', 'Bombay', 'german_shorthaired', 'havanese', 'chihuahua', 'boxer', 'British_Shorthair', 'english_setter', 'english_cocker_spaniel', 'Egyptian_Mau', 'american_bulldog', 'beagle', 'Bengal', 'basset_hound', 'Birman', 'Abyssinian', 'american_pit_bull_terrier']\n"
          ]
        },
        {
          "name": "stderr",
          "output_type": "stream",
          "text": [
            "/usr/local/lib/python3.11/dist-packages/torchvision/models/_utils.py:208: UserWarning: The parameter 'pretrained' is deprecated since 0.13 and may be removed in the future, please use 'weights' instead.\n",
            "  warnings.warn(\n",
            "/usr/local/lib/python3.11/dist-packages/torchvision/models/_utils.py:223: UserWarning: Arguments other than a weight enum or `None` for 'weights' are deprecated since 0.13 and may be removed in the future. The current behavior is equivalent to passing `weights=EfficientNet_B0_Weights.IMAGENET1K_V1`. You can also use `weights=EfficientNet_B0_Weights.DEFAULT` to get the most up-to-date weights.\n",
            "  warnings.warn(msg)\n",
            "Downloading: \"https://download.pytorch.org/models/efficientnet_b0_rwightman-7f5810bc.pth\" to /root/.cache/torch/hub/checkpoints/efficientnet_b0_rwightman-7f5810bc.pth\n"
          ]
        },
        {
          "name": "stdout",
          "output_type": "stream",
          "text": [
            "Classes détectées : {'Abyssinian': 0, 'Bengal': 1, 'Birman': 2, 'Bombay': 3, 'British_Shorthair': 4, 'Egyptian_Mau': 5, 'Maine_Coon': 6, 'Persian': 7, 'Ragdoll': 8, 'Russian_Blue': 9, 'Siamese': 10, 'Sphynx': 11, 'american_bulldog': 12, 'american_pit_bull_terrier': 13, 'basset_hound': 14, 'beagle': 15, 'boxer': 16, 'chihuahua': 17, 'english_cocker_spaniel': 18, 'english_setter': 19, 'german_shorthaired': 20, 'great_pyrenees': 21, 'havanese': 22, 'japanese_chin': 23, 'keeshond': 24, 'leonberger': 25, 'miniature_pinscher': 26, 'newfoundland': 27, 'pomeranian': 28, 'pug': 29, 'saint_bernard': 30, 'samoyed': 31, 'scottish_terrier': 32, 'shiba_inu': 33, 'staffordshire_bull_terrier': 34, 'wheaten_terrier': 35, 'yorkshire_terrier': 36}\n",
            "Nombre total d'images : 10573\n"
          ]
        },
        {
          "name": "stderr",
          "output_type": "stream",
          "text": [
            "100%|██████████| 20.5M/20.5M [00:00<00:00, 149MB/s]\n",
            "/usr/local/lib/python3.11/dist-packages/torch/optim/lr_scheduler.py:62: UserWarning: The verbose parameter is deprecated. Please use get_last_lr() to access the learning rate.\n",
            "  warnings.warn(\n"
          ]
        },
        {
          "name": "stdout",
          "output_type": "stream",
          "text": [
            "Epoch [1/30], Train Loss: 0.9463, Train Acc: 0.7229, Val Loss: 0.6230, Val Acc: 0.8123\n",
            "Epoch [2/30], Train Loss: 0.4613, Train Acc: 0.8522, Val Loss: 0.5231, Val Acc: 0.8444\n",
            "Epoch [3/30], Train Loss: 0.2955, Train Acc: 0.9075, Val Loss: 0.4659, Val Acc: 0.8667\n",
            "Epoch [4/30], Train Loss: 0.2365, Train Acc: 0.9260, Val Loss: 0.5680, Val Acc: 0.8454\n",
            "Epoch [5/30], Train Loss: 0.2052, Train Acc: 0.9346, Val Loss: 0.5967, Val Acc: 0.8459\n",
            "Epoch [6/30], Train Loss: 0.1698, Train Acc: 0.9454, Val Loss: 0.5552, Val Acc: 0.8638\n",
            "Epoch [7/30], Train Loss: 0.0592, Train Acc: 0.9817, Val Loss: 0.4564, Val Acc: 0.8846\n",
            "Epoch [8/30], Train Loss: 0.0231, Train Acc: 0.9926, Val Loss: 0.4271, Val Acc: 0.8931\n",
            "Epoch [9/30], Train Loss: 0.0161, Train Acc: 0.9957, Val Loss: 0.4922, Val Acc: 0.8931\n",
            "Epoch [10/30], Train Loss: 0.0184, Train Acc: 0.9944, Val Loss: 0.4509, Val Acc: 0.8955\n",
            "Epoch [11/30], Train Loss: 0.0224, Train Acc: 0.9933, Val Loss: 0.5116, Val Acc: 0.8931\n",
            "Epoch [12/30], Train Loss: 0.0128, Train Acc: 0.9972, Val Loss: 0.4747, Val Acc: 0.8941\n",
            "Epoch [13/30], Train Loss: 0.0085, Train Acc: 0.9976, Val Loss: 0.4530, Val Acc: 0.8988\n",
            "Early stopping at epoch 13\n",
            "Exemple de labels dans un batch : tensor([35,  2, 18,  0,  5, 35, 20,  0, 29, 12, 27,  3, 26, 25, 21, 36, 31, 17,\n",
            "        14, 18,  9, 17, 28, 12, 19,  7,  3, 29, 25, 12, 23, 10])\n"
          ]
        }
      ],
      "source": [
        "\n",
        "\n",
        "# Entraînement\n",
        "num_epochs = 30\n",
        "patience = 5\n",
        "best_val_loss = np.inf\n",
        "epochs_no_improve = 0\n",
        "\n",
        "for epoch in range(num_epochs):\n",
        "    model.train()\n",
        "    running_loss = 0.0\n",
        "    total = 0\n",
        "    correct = 0\n",
        "\n",
        "    for images, labels in train_loader:\n",
        "        images, labels = images.to(device), labels.to(device)\n",
        "        optimizer.zero_grad()\n",
        "\n",
        "        outputs = model(images)\n",
        "        loss = criterion(outputs, labels)\n",
        "        loss.backward()\n",
        "        optimizer.step()\n",
        "\n",
        "        running_loss += loss.item() * images.size(0)\n",
        "        _, predicted = outputs.max(1)\n",
        "        total += labels.size(0)\n",
        "        correct += predicted.eq(labels).sum().item()\n",
        "\n",
        "    train_loss = running_loss / total\n",
        "    train_acc = correct / total\n",
        "\n",
        "    # Validation\n",
        "    model.eval()\n",
        "    val_loss = 0.0\n",
        "    val_correct = 0\n",
        "    val_total = 0\n",
        "\n",
        "    with torch.no_grad():\n",
        "        for images, labels in val_loader:\n",
        "            images, labels = images.to(device), labels.to(device)\n",
        "            outputs = model(images)\n",
        "            loss = criterion(outputs, labels)\n",
        "\n",
        "            val_loss += loss.item() * images.size(0)\n",
        "            _, predicted = outputs.max(1)\n",
        "            val_total += labels.size(0)\n",
        "            val_correct += predicted.eq(labels).sum().item()\n",
        "\n",
        "    val_loss = val_loss / val_total\n",
        "    val_acc = val_correct / val_total\n",
        "\n",
        "    scheduler.step(val_loss)\n",
        "\n",
        "    print(f\"Epoch [{epoch+1}/{num_epochs}], \"\n",
        "          f\"Train Loss: {train_loss:.4f}, Train Acc: {train_acc:.4f}, \"\n",
        "          f\"Val Loss: {val_loss:.4f}, Val Acc: {val_acc:.4f}\")\n",
        "\n",
        "    # Early stopping\n",
        "    if val_loss < best_val_loss:\n",
        "        best_val_loss = val_loss\n",
        "        epochs_no_improve = 0\n",
        "        torch.save(model.state_dict(), 'best_model.pth')\n",
        "    else:\n",
        "        epochs_no_improve += 1\n",
        "        if epochs_no_improve >= patience:\n",
        "            print(f\"Early stopping at epoch {epoch+1}\")\n",
        "            break\n",
        "\n",
        "# Afficher un batch d'exemple\n",
        "for images, labels in train_loader:\n",
        "    print(\"Exemple de labels dans un batch :\", labels)\n",
        "    break\n"
      ]
    }
  ],
  "metadata": {
    "accelerator": "GPU",
    "colab": {
      "gpuType": "T4",
      "provenance": []
    },
    "kernelspec": {
      "display_name": "Python 3",
      "name": "python3"
    },
    "language_info": {
      "name": "python"
    }
  },
  "nbformat": 4,
  "nbformat_minor": 0
}