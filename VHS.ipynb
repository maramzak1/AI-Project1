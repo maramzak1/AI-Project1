{
 "cells": [
  {
   "cell_type": "markdown",
   "metadata": {},
   "source": [
    "# Ce modèle "
   ]
  },
  {
   "cell_type": "code",
   "execution_count": 18,
   "metadata": {},
   "outputs": [],
   "source": [
    "from datasets import load_dataset\n",
    "import torch\n",
    "from torchvision import transforms\n",
    "from torch.utils.data import DataLoader\n",
    "from torchvision.models import resnet18\n",
    "from torch import nn, optim\n",
    "import matplotlib.pyplot as plt\n",
    "from PIL import Image"
   ]
  },
  {
   "cell_type": "code",
   "execution_count": 19,
   "metadata": {},
   "outputs": [
    {
     "name": "stdout",
     "output_type": "stream",
     "text": [
      "Nombre total d'exemples : 208\n"
     ]
    }
   ],
   "source": [
    "# Charger le dataset\n",
    "dataset = load_dataset(\"aditya11997/dog_heart_xray_data\", split=\"train\")\n",
    "print(f\"Nombre total d'exemples : {len(dataset)}\")"
   ]
  },
  {
   "cell_type": "code",
   "execution_count": 20,
   "metadata": {},
   "outputs": [
    {
     "name": "stdout",
     "output_type": "stream",
     "text": [
      "Description : In the dog's chest X-ray and the chest x-ray shows a diminished heart outline.\n"
     ]
    }
   ],
   "source": [
    "# Aperçu d’un exemple\n",
    "example = dataset[0]\n",
    "print(\"Description :\", example[\"text\"])\n",
    "example[\"image\"].show()"
   ]
  },
  {
   "cell_type": "code",
   "execution_count": 21,
   "metadata": {},
   "outputs": [
    {
     "name": "stdout",
     "output_type": "stream",
     "text": [
      "Texte : In the dog's chest X-ray and the chest x-ray shows a diminished heart outline.... ➡️ Label : 0\n",
      "Texte : In the dog's chest X-ray and a reduced cardiac silhouette is evident in the ches... ➡️ Label : 0\n",
      "Texte : In the dog's chest X-ray, a diminutive heart structure is observed, warranting a... ➡️ Label : 0\n",
      "Texte : A reduced heart size is visible in the canine thoracic X-ray and thoracic x-ray ... ➡️ Label : 0\n",
      "Texte : The chest X-ray shows a diminished heart outline and thoracic x-ray revealing a ... ➡️ Label : 0\n"
     ]
    }
   ],
   "source": [
    "def texte_vers_label(texte):\n",
    "    texte = texte.lower()\n",
    "    mots_clefs_malades = [\n",
    "        \"cardiaque diminué\", \"silhouette réduite\",\n",
    "        \"cardiomégalie\", \"volume cardiaque réduit\", \"dilatation\"\n",
    "    ]\n",
    "    return int(any(mot in texte for mot in mots_clefs_malades))\n",
    "\n",
    "# Créer la liste des labels\n",
    "labels = [texte_vers_label(ex[\"text\"]) for ex in dataset]\n",
    "\n",
    "# Vérifier quelques exemples\n",
    "for i in range(5):\n",
    "    print(f\"Texte : {dataset[i]['text'][:80]}... ➡️ Label : {labels[i]}\")"
   ]
  },
  {
   "cell_type": "code",
   "execution_count": 22,
   "metadata": {},
   "outputs": [
    {
     "name": "stdout",
     "output_type": "stream",
     "text": [
      "Taille image : torch.Size([3, 224, 224]) → Label : 0\n"
     ]
    }
   ],
   "source": [
    "from torch.utils.data import Dataset\n",
    "\n",
    "transform = transforms.Compose([\n",
    "    transforms.Resize((224, 224)),\n",
    "    transforms.RandomHorizontalFlip(),\n",
    "    transforms.RandomRotation(10),\n",
    "    transforms.ColorJitter(brightness=0.1, contrast=0.1),\n",
    "    transforms.ToTensor()\n",
    "])\n",
    "\n",
    "# Dataset personnalisé\n",
    "class DogHeartXrayDataset(Dataset):\n",
    "    def __init__(self, hf_dataset, labels, transform=None):\n",
    "        self.hf_dataset = hf_dataset\n",
    "        self.labels = labels\n",
    "        self.transform = transform\n",
    "\n",
    "    def __len__(self):\n",
    "        return len(self.hf_dataset)\n",
    "\n",
    "    def __getitem__(self, idx):\n",
    "        image = self.hf_dataset[idx][\"image\"]\n",
    "\n",
    "        # ✅ Ajout important : conversion en RGB si nécessaire\n",
    "        if image.mode != 'RGB':\n",
    "            image = image.convert('RGB')\n",
    "\n",
    "        label = self.labels[idx]\n",
    "        if self.transform:\n",
    "            image = self.transform(image)\n",
    "        return image, label\n",
    "\n",
    "# Créer l'instance\n",
    "torch_dataset = DogHeartXrayDataset(dataset, labels, transform)\n",
    "\n",
    "# Vérification rapide\n",
    "img, lbl = torch_dataset[0]\n",
    "print(\"Taille image :\", img.shape, \"→ Label :\", lbl)"
   ]
  },
  {
   "cell_type": "code",
   "execution_count": 23,
   "metadata": {},
   "outputs": [
    {
     "name": "stdout",
     "output_type": "stream",
     "text": [
      "Batch : torch.Size([16, 3, 224, 224]), Labels : tensor([0, 0, 0, 0, 0, 0, 0, 0, 0, 0, 0, 0, 0, 0, 0, 0])\n"
     ]
    }
   ],
   "source": [
    "from torch.utils.data import random_split\n",
    "\n",
    "# Taille du dataset\n",
    "total_size = len(torch_dataset)\n",
    "val_size = int(0.2 * total_size)  # 20% validation\n",
    "train_size = total_size - val_size\n",
    "\n",
    "# Division aléatoire\n",
    "train_dataset, val_dataset = random_split(torch_dataset, [train_size, val_size])\n",
    "\n",
    "# DataLoaders\n",
    "train_loader = DataLoader(train_dataset, batch_size=16, shuffle=True)\n",
    "val_loader = DataLoader(val_dataset, batch_size=16)\n",
    "\n",
    "# Vérification d'un batch\n",
    "images, labels = next(iter(train_loader))\n",
    "print(f\"Batch : {images.shape}, Labels : {labels}\")"
   ]
  },
  {
   "cell_type": "code",
   "execution_count": 24,
   "metadata": {},
   "outputs": [
    {
     "name": "stdout",
     "output_type": "stream",
     "text": [
      "Modèle prêt sur : cpu\n"
     ]
    }
   ],
   "source": [
    "from torchvision.models import resnet18\n",
    "from torch import nn, optim\n",
    "\n",
    "# Charger ResNet18 préentraîné\n",
    "model = resnet18(pretrained=True)\n",
    "\n",
    "# Adapter la dernière couche à 2 classes (sain / malade)\n",
    "num_features = model.fc.in_features\n",
    "model.fc = nn.Linear(num_features, 2)\n",
    "\n",
    "# Mettre sur GPU si dispo\n",
    "device = torch.device(\"cuda\" if torch.cuda.is_available() else \"cpu\")\n",
    "model = model.to(device)\n",
    "\n",
    "# Définir la fonction de perte et l’optimiseur\n",
    "criterion = nn.CrossEntropyLoss()\n",
    "optimizer = optim.Adam(model.parameters(), lr=0.0005)\n",
    "\n",
    "print(f\"Modèle prêt sur : {device}\")"
   ]
  },
  {
   "cell_type": "code",
   "execution_count": 25,
   "metadata": {},
   "outputs": [
    {
     "name": "stdout",
     "output_type": "stream",
     "text": [
      "Époque 1/5 → Train Loss: 0.2379, Acc: 0.8743 | Val Loss: 0.1238, Acc: 1.0000\n",
      "Époque 2/5 → Train Loss: 0.0040, Acc: 1.0000 | Val Loss: 0.0089, Acc: 1.0000\n",
      "Époque 3/5 → Train Loss: 0.0009, Acc: 1.0000 | Val Loss: 0.0011, Acc: 1.0000\n",
      "Époque 4/5 → Train Loss: 0.0005, Acc: 1.0000 | Val Loss: 0.0005, Acc: 1.0000\n",
      "Époque 5/5 → Train Loss: 0.0004, Acc: 1.0000 | Val Loss: 0.0004, Acc: 1.0000\n"
     ]
    }
   ],
   "source": [
    "num_epochs = 5\n",
    "train_losses, val_losses, train_accs, val_accs = [], [], [], []\n",
    "\n",
    "for epoch in range(num_epochs):\n",
    "    model.train()\n",
    "    running_loss = 0.0\n",
    "    correct, total = 0, 0\n",
    "\n",
    "    for images, labels in train_loader:\n",
    "        images, labels = images.to(device), labels.to(device)\n",
    "\n",
    "        outputs = model(images)\n",
    "        loss = criterion(outputs, labels)\n",
    "\n",
    "        optimizer.zero_grad()\n",
    "        loss.backward()\n",
    "        optimizer.step()\n",
    "\n",
    "        running_loss += loss.item()\n",
    "        _, predicted = torch.max(outputs, 1)\n",
    "        correct += (predicted == labels).sum().item()\n",
    "        total += labels.size(0)\n",
    "\n",
    "    train_loss = running_loss / len(train_loader)\n",
    "    train_acc = correct / total\n",
    "    train_losses.append(train_loss)\n",
    "    train_accs.append(train_acc)\n",
    "\n",
    "    model.eval()\n",
    "    val_loss, correct, total = 0.0, 0, 0\n",
    "    with torch.no_grad():\n",
    "        for images, labels in val_loader:\n",
    "            images, labels = images.to(device), labels.to(device)\n",
    "            outputs = model(images)\n",
    "            loss = criterion(outputs, labels)\n",
    "            val_loss += loss.item()\n",
    "            _, predicted = torch.max(outputs, 1)\n",
    "            correct += (predicted == labels).sum().item()\n",
    "            total += labels.size(0)\n",
    "\n",
    "    val_loss /= len(val_loader)\n",
    "    val_acc = correct / total\n",
    "    val_losses.append(val_loss)\n",
    "    val_accs.append(val_acc)\n",
    "\n",
    "    print(f\"Époque {epoch+1}/{num_epochs} → \"\n",
    "            f\"Train Loss: {train_loss:.4f}, Acc: {train_acc:.4f} | \"\n",
    "            f\"Val Loss: {val_loss:.4f}, Acc: {val_acc:.4f}\")"
   ]
  },
  {
   "cell_type": "code",
   "execution_count": 26,
   "metadata": {},
   "outputs": [
    {
     "data": {
      "image/png": "[encoded data removed]",
      "text/plain": [
       "<Figure size 1200x500 with 2 Axes>"
      ]
     },
     "metadata": {},
     "output_type": "display_data"
    }
   ],
   "source": [
    "# Courbes de loss\n",
    "plt.figure(figsize=(12, 5))\n",
    "\n",
    "plt.subplot(1, 2, 1)\n",
    "plt.plot(train_losses, label=\"Train Loss\")\n",
    "plt.plot(val_losses, label=\"Val Loss\")\n",
    "plt.title(\"Courbe de Loss\")\n",
    "plt.xlabel(\"Époque\")\n",
    "plt.ylabel(\"Loss\")\n",
    "plt.legend()\n",
    "\n",
    "# Courbes d'accuracy\n",
    "plt.subplot(1, 2, 2)\n",
    "plt.plot(train_accs, label=\"Train Acc\")\n",
    "plt.plot(val_accs, label=\"Val Acc\")\n",
    "plt.title(\"Courbe d'Accuracy\")\n",
    "plt.xlabel(\"Époque\")\n",
    "plt.ylabel(\"Accuracy\")\n",
    "plt.legend()\n",
    "\n",
    "plt.tight_layout()\n",
    "plt.show()"
   ]
  }
 ],
 "metadata": {
  "kernelspec": {
   "display_name": "Python 3",
   "language": "python",
   "name": "python3"
  },
  "language_info": {
   "codemirror_mode": {
    "name": "ipython",
    "version": 3
   },
   "file_extension": ".py",
   "mimetype": "text/x-python",
   "name": "python",
   "nbconvert_exporter": "python",
   "pygments_lexer": "ipython3",
   "version": "3.12.6"
  }
 },
 "nbformat": 4,
 "nbformat_minor": 2
}
