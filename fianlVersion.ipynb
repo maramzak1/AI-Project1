{
 "cells": [
  {
   "cell_type": "code",
   "execution_count": 2,
   "id": "dbe96f47",
   "metadata": {},
   "outputs": [
    {
     "name": "stdout",
     "output_type": "stream",
     "text": [
      "Requirement already satisfied: sentence-transformers in c:\\users\\emna nkhili\\appdata\\local\\programs\\python\\python312\\lib\\site-packages (3.3.1)Note: you may need to restart the kernel to use updated packages.\n"
     ]
    },
    {
     "name": "stderr",
     "output_type": "stream",
     "text": [
      "WARNING: Error parsing dependencies of google-images-search: Expected matching RIGHT_PARENTHESIS for LEFT_PARENTHESIS, after version specifier\n",
      "    click (>=7.0<=8.1.*)\n",
      "          ~~~~~~^\n",
      "\n",
      "[notice] A new release of pip is available: 24.2 -> 25.0.1\n",
      "[notice] To update, run: python.exe -m pip install --upgrade pip\n"
     ]
    },
    {
     "name": "stdout",
     "output_type": "stream",
     "text": [
      "\n",
      "Requirement already satisfied: faiss-cpu in c:\\users\\emna nkhili\\appdata\\local\\programs\\python\\python312\\lib\\site-packages (1.10.0)\n",
      "Requirement already satisfied: transformers in c:\\users\\emna nkhili\\appdata\\local\\programs\\python\\python312\\lib\\site-packages (4.46.3)\n",
      "Requirement already satisfied: tqdm in c:\\users\\emna nkhili\\appdata\\local\\programs\\python\\python312\\lib\\site-packages (from sentence-transformers) (4.67.1)\n",
      "Requirement already satisfied: torch>=1.11.0 in c:\\users\\emna nkhili\\appdata\\local\\programs\\python\\python312\\lib\\site-packages (from sentence-transformers) (2.3.0)\n",
      "Requirement already satisfied: scikit-learn in c:\\users\\emna nkhili\\appdata\\local\\programs\\python\\python312\\lib\\site-packages (from sentence-transformers) (1.5.2)\n",
      "Requirement already satisfied: scipy in c:\\users\\emna nkhili\\appdata\\local\\programs\\python\\python312\\lib\\site-packages (from sentence-transformers) (1.13.0)\n",
      "Requirement already satisfied: huggingface-hub>=0.20.0 in c:\\users\\emna nkhili\\appdata\\local\\programs\\python\\python312\\lib\\site-packages (from sentence-transformers) (0.26.2)\n",
      "Requirement already satisfied: Pillow in c:\\users\\emna nkhili\\appdata\\local\\programs\\python\\python312\\lib\\site-packages (from sentence-transformers) (10.3.0)\n",
      "Requirement already satisfied: numpy<3.0,>=1.25.0 in c:\\users\\emna nkhili\\appdata\\local\\programs\\python\\python312\\lib\\site-packages (from faiss-cpu) (1.26.4)\n",
      "Requirement already satisfied: packaging in c:\\users\\emna nkhili\\appdata\\local\\programs\\python\\python312\\lib\\site-packages (from faiss-cpu) (24.0)\n",
      "Requirement already satisfied: filelock in c:\\users\\emna nkhili\\appdata\\local\\programs\\python\\python312\\lib\\site-packages (from transformers) (3.13.1)\n",
      "Requirement already satisfied: pyyaml>=5.1 in c:\\users\\emna nkhili\\appdata\\local\\programs\\python\\python312\\lib\\site-packages (from transformers) (6.0.1)\n",
      "Requirement already satisfied: regex!=2019.12.17 in c:\\users\\emna nkhili\\appdata\\local\\programs\\python\\python312\\lib\\site-packages (from transformers) (2024.11.6)\n",
      "Requirement already satisfied: requests in c:\\users\\emna nkhili\\appdata\\local\\programs\\python\\python312\\lib\\site-packages (from transformers) (2.32.3)\n",
      "Requirement already satisfied: tokenizers<0.21,>=0.20 in c:\\users\\emna nkhili\\appdata\\local\\programs\\python\\python312\\lib\\site-packages (from transformers) (0.20.3)\n",
      "Requirement already satisfied: safetensors>=0.4.1 in c:\\users\\emna nkhili\\appdata\\local\\programs\\python\\python312\\lib\\site-packages (from transformers) (0.4.5)\n",
      "Requirement already satisfied: fsspec>=2023.5.0 in c:\\users\\emna nkhili\\appdata\\local\\programs\\python\\python312\\lib\\site-packages (from huggingface-hub>=0.20.0->sentence-transformers) (2024.3.1)\n",
      "Requirement already satisfied: typing-extensions>=3.7.4.3 in c:\\users\\emna nkhili\\appdata\\local\\programs\\python\\python312\\lib\\site-packages (from huggingface-hub>=0.20.0->sentence-transformers) (4.13.2)\n",
      "Requirement already satisfied: sympy in c:\\users\\emna nkhili\\appdata\\local\\programs\\python\\python312\\lib\\site-packages (from torch>=1.11.0->sentence-transformers) (1.12)\n",
      "Requirement already satisfied: networkx in c:\\users\\emna nkhili\\appdata\\local\\programs\\python\\python312\\lib\\site-packages (from torch>=1.11.0->sentence-transformers) (3.3)\n",
      "Requirement already satisfied: jinja2 in c:\\users\\emna nkhili\\appdata\\local\\programs\\python\\python312\\lib\\site-packages (from torch>=1.11.0->sentence-transformers) (3.1.3)\n",
      "Requirement already satisfied: mkl<=2021.4.0,>=2021.1.1 in c:\\users\\emna nkhili\\appdata\\local\\programs\\python\\python312\\lib\\site-packages (from torch>=1.11.0->sentence-transformers) (2021.4.0)\n",
      "Requirement already satisfied: colorama in c:\\users\\emna nkhili\\appdata\\local\\programs\\python\\python312\\lib\\site-packages (from tqdm->sentence-transformers) (0.4.6)\n",
      "Requirement already satisfied: charset-normalizer<4,>=2 in c:\\users\\emna nkhili\\appdata\\local\\programs\\python\\python312\\lib\\site-packages (from requests->transformers) (3.3.2)\n",
      "Requirement already satisfied: idna<4,>=2.5 in c:\\users\\emna nkhili\\appdata\\local\\programs\\python\\python312\\lib\\site-packages (from requests->transformers) (3.6)\n",
      "Requirement already satisfied: urllib3<3,>=1.21.1 in c:\\users\\emna nkhili\\appdata\\local\\programs\\python\\python312\\lib\\site-packages (from requests->transformers) (2.2.1)\n",
      "Requirement already satisfied: certifi>=2017.4.17 in c:\\users\\emna nkhili\\appdata\\local\\programs\\python\\python312\\lib\\site-packages (from requests->transformers) (2024.2.2)\n",
      "Requirement already satisfied: joblib>=1.2.0 in c:\\users\\emna nkhili\\appdata\\roaming\\python\\python312\\site-packages (from scikit-learn->sentence-transformers) (1.4.2)\n",
      "Requirement already satisfied: threadpoolctl>=3.1.0 in c:\\users\\emna nkhili\\appdata\\local\\programs\\python\\python312\\lib\\site-packages (from scikit-learn->sentence-transformers) (3.5.0)\n",
      "Requirement already satisfied: intel-openmp==2021.* in c:\\users\\emna nkhili\\appdata\\local\\programs\\python\\python312\\lib\\site-packages (from mkl<=2021.4.0,>=2021.1.1->torch>=1.11.0->sentence-transformers) (2021.4.0)\n",
      "Requirement already satisfied: tbb==2021.* in c:\\users\\emna nkhili\\appdata\\local\\programs\\python\\python312\\lib\\site-packages (from mkl<=2021.4.0,>=2021.1.1->torch>=1.11.0->sentence-transformers) (2021.12.0)\n",
      "Requirement already satisfied: MarkupSafe>=2.0 in c:\\users\\emna nkhili\\appdata\\local\\programs\\python\\python312\\lib\\site-packages (from jinja2->torch>=1.11.0->sentence-transformers) (2.1.5)\n",
      "Requirement already satisfied: mpmath>=0.19 in c:\\users\\emna nkhili\\appdata\\local\\programs\\python\\python312\\lib\\site-packages (from sympy->torch>=1.11.0->sentence-transformers) (1.3.0)\n"
     ]
    }
   ],
   "source": [
    "pip install sentence-transformers faiss-cpu transformers\n"
   ]
  },
  {
   "cell_type": "code",
   "execution_count": 3,
   "id": "965298df",
   "metadata": {},
   "outputs": [
    {
     "name": "stdout",
     "output_type": "stream",
     "text": [
      "Requirement already satisfied: ollama in c:\\users\\emna nkhili\\appdata\\local\\programs\\python\\python312\\lib\\site-packages (0.4.8)\n",
      "Requirement already satisfied: httpx<0.29,>=0.27 in c:\\users\\emna nkhili\\appdata\\local\\programs\\python\\python312\\lib\\site-packages (from ollama) (0.27.0)\n",
      "Requirement already satisfied: pydantic<3.0.0,>=2.9.0 in c:\\users\\emna nkhili\\appdata\\local\\programs\\python\\python312\\lib\\site-packages (from ollama) (2.11.3)\n",
      "Requirement already satisfied: anyio in c:\\users\\emna nkhili\\appdata\\local\\programs\\python\\python312\\lib\\site-packages (from httpx<0.29,>=0.27->ollama) (4.3.0)\n",
      "Requirement already satisfied: certifi in c:\\users\\emna nkhili\\appdata\\local\\programs\\python\\python312\\lib\\site-packages (from httpx<0.29,>=0.27->ollama) (2024.2.2)\n",
      "Requirement already satisfied: httpcore==1.* in c:\\users\\emna nkhili\\appdata\\local\\programs\\python\\python312\\lib\\site-packages (from httpx<0.29,>=0.27->ollama) (1.0.4)\n",
      "Requirement already satisfied: idna in c:\\users\\emna nkhili\\appdata\\local\\programs\\python\\python312\\lib\\site-packages (from httpx<0.29,>=0.27->ollama) (3.6)\n",
      "Requirement already satisfied: sniffio in c:\\users\\emna nkhili\\appdata\\local\\programs\\python\\python312\\lib\\site-packages (from httpx<0.29,>=0.27->ollama) (1.3.1)\n",
      "Requirement already satisfied: h11<0.15,>=0.13 in c:\\users\\emna nkhili\\appdata\\local\\programs\\python\\python312\\lib\\site-packages (from httpcore==1.*->httpx<0.29,>=0.27->ollama) (0.14.0)\n",
      "Requirement already satisfied: annotated-types>=0.6.0 in c:\\users\\emna nkhili\\appdata\\local\\programs\\python\\python312\\lib\\site-packages (from pydantic<3.0.0,>=2.9.0->ollama) (0.6.0)\n",
      "Requirement already satisfied: pydantic-core==2.33.1 in c:\\users\\emna nkhili\\appdata\\local\\programs\\python\\python312\\lib\\site-packages (from pydantic<3.0.0,>=2.9.0->ollama) (2.33.1)\n",
      "Requirement already satisfied: typing-extensions>=4.12.2 in c:\\users\\emna nkhili\\appdata\\local\\programs\\python\\python312\\lib\\site-packages (from pydantic<3.0.0,>=2.9.0->ollama) (4.13.2)\n",
      "Requirement already satisfied: typing-inspection>=0.4.0 in c:\\users\\emna nkhili\\appdata\\local\\programs\\python\\python312\\lib\\site-packages (from pydantic<3.0.0,>=2.9.0->ollama) (0.4.0)\n",
      "Note: you may need to restart the kernel to use updated packages.\n"
     ]
    },
    {
     "name": "stderr",
     "output_type": "stream",
     "text": [
      "WARNING: Error parsing dependencies of google-images-search: Expected matching RIGHT_PARENTHESIS for LEFT_PARENTHESIS, after version specifier\n",
      "    click (>=7.0<=8.1.*)\n",
      "          ~~~~~~^\n",
      "\n",
      "[notice] A new release of pip is available: 24.2 -> 25.0.1\n",
      "[notice] To update, run: python.exe -m pip install --upgrade pip\n"
     ]
    }
   ],
   "source": [
    "pip install ollama\n"
   ]
  },
  {
   "cell_type": "code",
   "execution_count": 4,
   "id": "dd357b66",
   "metadata": {},
   "outputs": [
    {
     "name": "stderr",
     "output_type": "stream",
     "text": [
      "c:\\Users\\Emna Nkhili\\AppData\\Local\\Programs\\Python\\Python312\\Lib\\site-packages\\tqdm\\auto.py:21: TqdmWarning: IProgress not found. Please update jupyter and ipywidgets. See https://ipywidgets.readthedocs.io/en/stable/user_install.html\n",
      "  from .autonotebook import tqdm as notebook_tqdm\n"
     ]
    }
   ],
   "source": [
    "import numpy as np\n",
    "import ollama\n",
    "from sentence_transformers import SentenceTransformer\n",
    "import faiss\n",
    "import pandas as pd\n"
   ]
  },
  {
   "cell_type": "code",
   "execution_count": 5,
   "id": "b2b557ef",
   "metadata": {},
   "outputs": [],
   "source": [
    "# Charger les données CSV\n",
    "data = pd.read_csv('C:/Users/Emna Nkhili/Desktop/RAG-Project/data/DataExtaction.csv')\n"
   ]
  },
  {
   "cell_type": "code",
   "execution_count": 6,
   "id": "5172d812",
   "metadata": {},
   "outputs": [],
   "source": [
    "# Initialiser le modèle d'embedder\n",
    "embedder = SentenceTransformer('all-MiniLM-L6-v2')\n",
    "\n",
    "# Générer les embeddings\n",
    "sentences = data['phrase'].tolist()  # Assurez-vous que 'phrase' existe dans le CSV\n",
    "embeddings = embedder.encode(sentences, convert_to_tensor=False)\n"
   ]
  },
  {
   "cell_type": "code",
   "execution_count": 7,
   "id": "f009ffc4",
   "metadata": {},
   "outputs": [],
   "source": [
    "# Créer un index FAISS\n",
    "embedding_dim = embeddings[0].shape[0]  # Dimension des embeddings\n",
    "index = faiss.IndexFlatL2(embedding_dim)  # Créer un index FAISS avec distance L2\n",
    "index.add(np.array(embeddings))  # Ajouter les embeddings à l'index\n"
   ]
  },
  {
   "cell_type": "code",
   "execution_count": 8,
   "id": "7134dd0c",
   "metadata": {},
   "outputs": [
    {
     "name": "stdout",
     "output_type": "stream",
     "text": [
      "Vérification de la connexion à Ollama...\n",
      "Connexion réussie à Ollama ✅\n"
     ]
    }
   ],
   "source": [
    "# Vérification de la connexion à Ollama\n",
    "print(\"Vérification de la connexion à Ollama...\")\n",
    "try:\n",
    "    ollama.chat(model=\"llama3\", messages=[{'role': 'user', 'content': 'Test connexion'}])\n",
    "    print(\"Connexion réussie à Ollama ✅\")\n",
    "except Exception as e:\n",
    "    print(\"Erreur de connexion à Ollama ❌\")\n",
    "    print(e)\n",
    "    raise SystemExit(\"Arrêt du programme.\")\n"
   ]
  },
  {
   "cell_type": "code",
   "execution_count": 9,
   "id": "8bba7d33",
   "metadata": {},
   "outputs": [],
   "source": [
    "# Définir le modèle à utiliser\n",
    "model_name = \"llama3\"\n",
    "\n",
    "# Fonction pour générer la réponse\n",
    "def generate_answer(user_query, top_k=5):\n",
    "    # Embedding de la requête de l'utilisateur\n",
    "    query_embedding = embedder.encode([user_query], convert_to_tensor=False)\n",
    "\n",
    "    # Recherche dans FAISS\n",
    "    distances, indices = index.search(np.array(query_embedding), top_k)\n",
    "    matched_phrases = [sentences[idx] for idx in indices[0]]\n",
    "\n",
    "    # Construire le contexte\n",
    "    context = \"\\n\".join(matched_phrases)\n",
    "\n",
    "    # Construire le prompt\n",
    "    full_prompt = f\"\"\"Tu es un expert en remèdes naturels.\n",
    "Voici des exemples :\n",
    "{context}\n",
    "\n",
    "En te basant sur ces informations, réponds à la question suivante :\n",
    "Question: {user_query}\n",
    "\"\"\"\n",
    "\n",
    "    # Envoyer le prompt à Ollama\n",
    "    response = ollama.chat(\n",
    "        model=model_name,\n",
    "        messages=[{'role': 'user', 'content': full_prompt}]\n",
    "    )\n",
    "\n",
    "    return response['message']['content']\n"
   ]
  },
  {
   "cell_type": "code",
   "execution_count": 10,
   "id": "fab20b0b",
   "metadata": {},
   "outputs": [
    {
     "name": "stdout",
     "output_type": "stream",
     "text": [
      "\n",
      "💬 Réponse générée par Ollama :\n",
      "\n",
      "Je suis ravi de vous aider à trouver des remèdes naturels pour votre chien, un Labrador de 5 ans.\n",
      "\n",
      "En résumé, les symptômes que votre chien présente (léthargie, perte d'appétit et vomissements fréquents) sont liés à une gastrite. Voici quelques suggestions de remèdes naturels qui pourraient aider à soulager ses symptômes et améliorer son bien-être :\n",
      "\n",
      "1. **Gastrite** : Pour soulager les douleurs abdominales et réduire l'inflammation, vous pouvez essayer d'administrer ¼ de cuiller d'huile avec du miel cru ou de Manuka (ou un autre équivalent pour vos chats) deux fois par jour. Cela pourrait aider à apaiser la gorge et à favoriser une digestion plus saine.\n",
      "2. **Digestion** : La nigelle, comme mentionné précédemment, a des propriétés détoxifiantes, digestives, diurétiques et carminatives. Elle peut aider à réguler le transit intestinal, ce qui est important pour votre chien qui présente une constipation ou diarrhée. Vous pouvez administrer 1 cuillère à café de graines noires deux fois par jour.\n",
      "3. **Vomitifs** : Pour soulager les vomissements, vous pouvez essayer d'administrer un peu de jus de pomme verte ( environ ¼ de cuiller) deux fois par jour. Le jus de pomme verte a des propriétés anti-inflammatoires et pourrait aider à réduire l'inflammation dans l'estomac.\n",
      "4. **Hydratation** : Il est essentiel pour votre chien de rester hydraté, car la perte d'eau peut aggraver les symptômes. Vous pouvez donner du jus de fruits (comme le jus de pomme verte) ou même des gouttes d'eau additionnelles si votre vétérinaire l'approuve.\n",
      "5. **Apaisement** : Enfin, il est important de soulager la léthargie et l'anxiété que votre chien peut éprouver en raison de sa maladie. Vous pouvez essayer de l'apaiser en lui offrant des caresses douces, des jeux calmes ou même des séances de massage.\n",
      "\n",
      "Il est important de noter que ces remèdes naturels ne remplacent pas les conseils d'un vétérinaire. Il est toujours recommandé de consulter un professionnel avant de donner quoi que ce soit à votre chien.\n",
      "\n",
      "J'espère que cela vous aidera à soulager les symptômes de votre chien et à améliorer son bien-être !\n"
     ]
    }
   ],
   "source": [
    "# Exemple d'utilisation\n",
    "if __name__ == \"__main__\":\n",
    "    question = (\"Mon chien, un Labrador de 5 ans, montre des signes de léthargie, \"\n",
    "                \"une perte d'appétit, et il vomit fréquemment. Après avoir consulté \"\n",
    "                \"un vétérinaire, on lui a diagnostiqué une gastrite. Quels remèdes naturels \"\n",
    "                \"puis-je utiliser pour soulager ses symptômes et améliorer son bien-être ?\")\n",
    "    \n",
    "    answer = generate_answer(question)\n",
    "    print(\"\\n💬 Réponse générée par Ollama :\\n\")\n",
    "    print(answer)\n"
   ]
  }
 ],
 "metadata": {
  "kernelspec": {
   "display_name": "Python 3",
   "language": "python",
   "name": "python3"
  },
  "language_info": {
   "codemirror_mode": {
    "name": "ipython",
    "version": 3
   },
   "file_extension": ".py",
   "mimetype": "text/x-python",
   "name": "python",
   "nbconvert_exporter": "python",
   "pygments_lexer": "ipython3",
   "version": "3.12.2"
  }
 },
 "nbformat": 4,
 "nbformat_minor": 5
}
